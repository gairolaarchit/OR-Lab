{
  "nbformat": 4,
  "nbformat_minor": 0,
  "metadata": {
    "colab": {
      "name": "15thSept_exp_5_R103219001.ipynb",
      "provenance": [],
      "authorship_tag": "ABX9TyOco5xzYuzcqBxHLX1N46jh",
      "include_colab_link": true
    },
    "kernelspec": {
      "name": "python3",
      "display_name": "Python 3"
    },
    "language_info": {
      "name": "python"
    }
  },
  "cells": [
    {
      "cell_type": "markdown",
      "metadata": {
        "id": "view-in-github",
        "colab_type": "text"
      },
      "source": [
        "<a href=\"https://colab.research.google.com/github/gairolaarchit/OR-Lab/blob/main/15thSept_exp_5_R103219001.ipynb\" target=\"_parent\"><img src=\"https://colab.research.google.com/assets/colab-badge.svg\" alt=\"Open In Colab\"/></a>"
      ]
    },
    {
      "cell_type": "code",
      "metadata": {
        "id": "saOVsQ2xlztE"
      },
      "source": [
        "from scipy.optimize import linprog"
      ],
      "execution_count": 1,
      "outputs": []
    },
    {
      "cell_type": "code",
      "metadata": {
        "colab": {
          "base_uri": "https://localhost:8080/"
        },
        "id": "eP6ybVQ6l1aW",
        "outputId": "a792a174-3ef9-4db3-8125-1aaf97101bc5"
      },
      "source": [
        "obj = [-3, -2, -3]\n",
        "a = [[ 2, 1, 1],[1, 3, 1],[3, 4, 2]]\n",
        "b = [2, 6, 8]\n",
        "bnd = [(0, float(\"inf\")), (0, float(\"inf\")), (0, float(\"inf\"))]\n",
        "opt = linprog(c=obj, A_eq=a, b_eq=b, bounds=bnd, method=\"revised simplex\")\n",
        "opt"
      ],
      "execution_count": 11,
      "outputs": [
        {
          "output_type": "stream",
          "name": "stderr",
          "text": [
            "/usr/local/lib/python3.7/dist-packages/ipykernel_launcher.py:5: OptimizeWarning: A_eq does not appear to be of full row rank. To improve performance, check the problem formulation for redundant equality constraints.\n",
            "  \"\"\"\n"
          ]
        },
        {
          "output_type": "execute_result",
          "data": {
            "text/plain": [
              "     con: array([0., 0., 0.])\n",
              "     fun: -4.0\n",
              " message: 'Optimization terminated successfully.'\n",
              "     nit: 3\n",
              "   slack: array([], dtype=float64)\n",
              "  status: 0\n",
              " success: True\n",
              "       x: array([0., 2., 0.])"
            ]
          },
          "metadata": {},
          "execution_count": 11
        }
      ]
    },
    {
      "cell_type": "code",
      "metadata": {
        "colab": {
          "base_uri": "https://localhost:8080/"
        },
        "id": "rCdcQxw3mckA",
        "outputId": "f9425338-07f1-4da4-ba39-d089deacf2f4"
      },
      "source": [
        "obj1 = [3, -4, 3]\n",
        "a1 = [[ 5, 6, 2],[1, -3, -5], [2, 5, -4]]\n",
        "b1 = [5, -8, 4]\n",
        "bnd1 = [(0, float(\"inf\")), (0, float(\"inf\")), (0, float(\"inf\"))]\n",
        "opt1 = linprog(c=obj1, A_ub=a1, b_ub=b1, bounds=bnd1, method=\"revised simplex\")\n",
        "opt1"
      ],
      "execution_count": 12,
      "outputs": [
        {
          "output_type": "execute_result",
          "data": {
            "text/plain": [
              "     con: array([], dtype=float64)\n",
              "     fun: 2.625\n",
              " message: 'Optimization terminated successfully.'\n",
              "     nit: 2\n",
              "   slack: array([0.   , 0.   , 7.625])\n",
              "  status: 0\n",
              " success: True\n",
              "       x: array([0.   , 0.375, 1.375])"
            ]
          },
          "metadata": {},
          "execution_count": 12
        }
      ]
    },
    {
      "cell_type": "code",
      "metadata": {
        "colab": {
          "base_uri": "https://localhost:8080/"
        },
        "id": "f32CO_z9m2Dm",
        "outputId": "ffb8fc72-cc35-419e-f309-cf771bcf50ed"
      },
      "source": [
        "obj2 = [-2, -4, -4, 3]\n",
        "a2 = [[ 1, 1, 1, 0],[1, 4, 0, 1],[3, 4, 2, 0]]\n",
        "b2 = [4, 8, 8]\n",
        "bnd2 = [(0, float(\"inf\")), (0, float(\"inf\")), (0, float(\"inf\")), (0, float(\"inf\"))]\n",
        "opt2 = linprog(c=obj2, A_eq=a2, b_eq=b2, bounds=bnd2, method=\"revised simplex\")\n",
        "opt2"
      ],
      "execution_count": 13,
      "outputs": [
        {
          "output_type": "execute_result",
          "data": {
            "text/plain": [
              "     con: array([0., 0., 0.])\n",
              "     fun: 8.0\n",
              " message: 'Optimization terminated successfully.'\n",
              "     nit: 3\n",
              "   slack: array([], dtype=float64)\n",
              "  status: 0\n",
              " success: True\n",
              "       x: array([0., 0., 4., 8.])"
            ]
          },
          "metadata": {},
          "execution_count": 13
        }
      ]
    }
  ]
}