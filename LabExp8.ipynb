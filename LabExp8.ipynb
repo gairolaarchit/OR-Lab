{
  "nbformat": 4,
  "nbformat_minor": 0,
  "metadata": {
    "colab": {
      "name": "LabExp8.ipynb",
      "provenance": [],
      "authorship_tag": "ABX9TyMT82bEHFLbhv0Slop1H2MX",
      "include_colab_link": true
    },
    "kernelspec": {
      "name": "python3",
      "display_name": "Python 3"
    },
    "language_info": {
      "name": "python"
    }
  },
  "cells": [
    {
      "cell_type": "markdown",
      "metadata": {
        "id": "view-in-github",
        "colab_type": "text"
      },
      "source": [
        "<a href=\"https://colab.research.google.com/github/gairolaarchit/OR-Lab/blob/main/LabExp8.ipynb\" target=\"_parent\"><img src=\"https://colab.research.google.com/assets/colab-badge.svg\" alt=\"Open In Colab\"/></a>"
      ]
    },
    {
      "cell_type": "markdown",
      "metadata": {
        "id": "js0QjhfI5VBQ"
      },
      "source": [
        "Minimize Z = X1 + X2\n",
        "Subject to,\n",
        "X1 + X2 <= 1\n",
        "-3X1 + X2 >= 3\n",
        "X1, X2 >= 0"
      ]
    },
    {
      "cell_type": "code",
      "metadata": {
        "id": "oNvjq9q05ZC2"
      },
      "source": [
        "from scipy.optimize import linprog"
      ],
      "execution_count": null,
      "outputs": []
    },
    {
      "cell_type": "code",
      "metadata": {
        "colab": {
          "base_uri": "https://localhost:8080/"
        },
        "id": "FRI6Oy1_5nnn",
        "outputId": "27cd0ea1-00bf-4d8f-a5d0-cbd16048e56d"
      },
      "source": [
        "obj1 = [1, 1]\n",
        "lhs_ineq1 = [[ 1,  1],[3,  -1]]\n",
        "rhs_ineq1 = [1,-3]\n",
        "bnd1 = [(0, float(\"inf\")), (0, float(\"inf\"))]\n",
        "opt1 = linprog(c=obj1, A_ub=lhs_ineq1, b_ub=rhs_ineq1, bounds=bnd1, method=\"revised simplex\")\n",
        "opt1"
      ],
      "execution_count": null,
      "outputs": [
        {
          "output_type": "execute_result",
          "data": {
            "text/plain": [
              "     con: array([], dtype=float64)\n",
              "     fun: 1.0\n",
              " message: 'The problem appears infeasible, as the phase one auxiliary problem terminated successfully with a residual of 2.0e+00, greater than the tolerance 1e-12 required for the solution to be considered feasible. Consider increasing the tolerance to be greater than 2.0e+00. If this tolerance is unnaceptably large, the problem is likely infeasible.'\n",
              "     nit: 1\n",
              "   slack: array([ 0., -2.])\n",
              "  status: 2\n",
              " success: False\n",
              "       x: array([0., 1.])"
            ]
          },
          "metadata": {},
          "execution_count": 3
        }
      ]
    },
    {
      "cell_type": "markdown",
      "metadata": {
        "id": "pEt4nUEu6XJW"
      },
      "source": [
        "Maximize Z = 2X1 + 4X2\n",
        "Subject to,\n",
        "X1 + 2X2 <= 5\n",
        "X1 + X2 <= 4\n",
        "X1, X2 >= 0"
      ]
    },
    {
      "cell_type": "code",
      "metadata": {
        "colab": {
          "base_uri": "https://localhost:8080/"
        },
        "id": "YtpMWK2G6h0H",
        "outputId": "62a0663c-ffbb-47bf-ea98-8c5ba32d98da"
      },
      "source": [
        "obj2 = [-2,-4]\n",
        "lhs_ineq2 = [[1,2],[1,1]]\n",
        "rhs_ineq2 = [5,4]\n",
        "bnd2 = [(0, float(\"inf\")),(0,float(\"inf\"))]\n",
        "opt2 = linprog(c=obj2, A_ub=lhs_ineq2, b_ub=rhs_ineq2, bounds=bnd2, method=\"revised simplex\")\n",
        "opt2"
      ],
      "execution_count": null,
      "outputs": [
        {
          "output_type": "execute_result",
          "data": {
            "text/plain": [
              "     con: array([], dtype=float64)\n",
              "     fun: -10.0\n",
              " message: 'Optimization terminated successfully.'\n",
              "     nit: 1\n",
              "   slack: array([0. , 1.5])\n",
              "  status: 0\n",
              " success: True\n",
              "       x: array([0. , 2.5])"
            ]
          },
          "metadata": {},
          "execution_count": 4
        }
      ]
    },
    {
      "cell_type": "markdown",
      "metadata": {
        "id": "Qq5we0fC8CNN"
      },
      "source": [
        "Maximize Z = 2X1 + X2\n",
        "Subject to,\n",
        "X1 - X2 <= 10\n",
        "2X1 <= 40\n",
        "X1, X2 >= 0"
      ]
    },
    {
      "cell_type": "code",
      "metadata": {
        "colab": {
          "base_uri": "https://localhost:8080/"
        },
        "id": "HlwwHLSC8Na8",
        "outputId": "73283b7c-f541-42f0-d4bd-3fc570c6986b"
      },
      "source": [
        "obj3 = [-2,-1]\n",
        "lhs_ineq3 = [[1,-1],[2,0]]\n",
        "rhs_ineq3 = [10,40]\n",
        "bnd3 = [(0, float(\"inf\")), (0, float(\"inf\"))]\n",
        "opt3 = linprog(c=obj3, A_ub=lhs_ineq3, b_ub=rhs_ineq3, bounds=bnd3, method=\"revised simplex\")\n",
        "opt3"
      ],
      "execution_count": null,
      "outputs": [
        {
          "output_type": "execute_result",
          "data": {
            "text/plain": [
              "     con: array([], dtype=float64)\n",
              "     fun: -50.0\n",
              " message: 'The problem is unbounded, as the simplex algorithm found a basic feasible solution from which there is a direction with negative reduced cost in which all decision variables increase.'\n",
              "     nit: 2\n",
              "   slack: array([0., 0.])\n",
              "  status: 3\n",
              " success: False\n",
              "       x: array([20., 10.])"
            ]
          },
          "metadata": {},
          "execution_count": 5
        }
      ]
    },
    {
      "cell_type": "markdown",
      "metadata": {
        "id": "mw5UN7TE8wDl"
      },
      "source": [
        "Minimize Z = 3X1 + 2X2\n",
        "Subject to, \n",
        "2X1 + X2 <= 2\n",
        "3X1 + 4X2 >= 12\n",
        "X1, X2 >= 0"
      ]
    },
    {
      "cell_type": "code",
      "metadata": {
        "colab": {
          "base_uri": "https://localhost:8080/"
        },
        "id": "5nnOcssg9O_e",
        "outputId": "fdeb78af-eb50-4e46-8cb2-f6ea84bc692b"
      },
      "source": [
        "obj4 = [3,2]\n",
        "lhs_ineq4 = [[2,1],[-3,-4]]\n",
        "rhs_ineq4 = [2,-12]\n",
        "bnd4 = [(0, float(\"inf\")), (0,float(\"inf\"))]\n",
        "opt4 = linprog(c=obj4, A_ub=lhs_ineq4, b_ub=rhs_ineq4,bounds=bnd4, method=\"revised simplex\")\n",
        "opt4"
      ],
      "execution_count": null,
      "outputs": [
        {
          "output_type": "execute_result",
          "data": {
            "text/plain": [
              "     con: array([], dtype=float64)\n",
              "     fun: 4.0\n",
              " message: 'The problem appears infeasible, as the phase one auxiliary problem terminated successfully with a residual of 4.0e+00, greater than the tolerance 1e-12 required for the solution to be considered feasible. Consider increasing the tolerance to be greater than 4.0e+00. If this tolerance is unnaceptably large, the problem is likely infeasible.'\n",
              "     nit: 1\n",
              "   slack: array([ 0., -4.])\n",
              "  status: 2\n",
              " success: False\n",
              "       x: array([0., 2.])"
            ]
          },
          "metadata": {},
          "execution_count": 6
        }
      ]
    },
    {
      "cell_type": "code",
      "metadata": {
        "id": "9iLiIhmr951J"
      },
      "source": [
        ""
      ],
      "execution_count": null,
      "outputs": []
    }
  ]
}