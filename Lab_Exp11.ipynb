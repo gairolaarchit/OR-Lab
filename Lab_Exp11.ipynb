{
  "nbformat": 4,
  "nbformat_minor": 0,
  "metadata": {
    "colab": {
      "name": "LabExp11.ipynb",
      "provenance": [],
      "authorship_tag": "ABX9TyNLlojqborMSHoMEIN6e/NB",
      "include_colab_link": true
    },
    "kernelspec": {
      "name": "python3",
      "display_name": "Python 3"
    },
    "language_info": {
      "name": "python"
    }
  },
  "cells": [
    {
      "cell_type": "markdown",
      "metadata": {
        "id": "view-in-github",
        "colab_type": "text"
      },
      "source": [
        "<a href=\"https://colab.research.google.com/github/gairolaarchit/OR-Lab/blob/main/LabExp11.ipynb\" target=\"_parent\"><img src=\"https://colab.research.google.com/assets/colab-badge.svg\" alt=\"Open In Colab\"/></a>"
      ]
    },
    {
      "cell_type": "markdown",
      "metadata": {
        "id": "nOCrlCdt-NN4"
      },
      "source": [
        "A computer center has three expert programmers. The center wants three application programs to be developed. The head of the computer center, after studying carefully the programmers to be deployed, estimates the computer time in minutes required by the experts for the application programmers as follows:"
      ]
    },
    {
      "cell_type": "code",
      "metadata": {
        "colab": {
          "base_uri": "https://localhost:8080/"
        },
        "id": "rgdL4t8i-RI5",
        "outputId": "4a92eeda-9176-44f2-bb7e-754d5479d803"
      },
      "source": [
        "import numpy as np\n",
        "from scipy.optimize import linear_sum_assignment \n",
        "cost_matrix = np.array([[120,100,80], [80,90,110],[110,140,120]])\n",
        "row_ind, col_ind = linear_sum_assignment(cost_matrix)\n",
        "opt_ass = col_ind\n",
        "tc = cost_matrix[row_ind, col_ind].sum()\n",
        "print('Total assignment cost is %d' %tc)"
      ],
      "execution_count": null,
      "outputs": [
        {
          "output_type": "stream",
          "name": "stdout",
          "text": [
            "Total assignment cost is 280\n"
          ]
        }
      ]
    },
    {
      "cell_type": "markdown",
      "metadata": {
        "id": "R4j2Xv_W_jZz"
      },
      "source": [
        "A department has five employees with five jobs to be performed. The time(in hours) each men will take to perform each job is given in the effectiveness matrix."
      ]
    },
    {
      "cell_type": "code",
      "metadata": {
        "colab": {
          "base_uri": "https://localhost:8080/"
        },
        "id": "m-xB-NfW_llA",
        "outputId": "17715e2a-d412-4c42-afb1-c42461358fa1"
      },
      "source": [
        "cost_matrix1 = np.array([[10, 5, 13, 15, 16], [3, 9, 18, 13, 6], [10, 7, 2, 2, 2], [7, 11, 9, 7, 12], [7, 9, 10, 4 , 12]])\n",
        "row_ind1, col_ind1 = linear_sum_assignment(cost_matrix1)\n",
        "opt_ass1 = col_ind1\n",
        "tc1 = cost_matrix1[row_ind1, col_ind1].sum()\n",
        "print('Total Cost is %d' %tc1)"
      ],
      "execution_count": null,
      "outputs": [
        {
          "output_type": "stream",
          "name": "stdout",
          "text": [
            "Total Cost is 23\n"
          ]
        }
      ]
    }
  ]
}
